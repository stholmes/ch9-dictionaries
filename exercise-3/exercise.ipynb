{
 "cells": [
  {
   "cell_type": "markdown",
   "metadata": {},
   "source": [
    "# Exercise 3\n",
    "Add the specified code for each code cell, running the cells _in order_."
   ]
  },
  {
   "cell_type": "markdown",
   "metadata": {},
   "source": [
    "Define a function **`create_game_dict()`** that takes in 4 arguments: the name of the home team in a sports game, the name of the visiting team, the home team's score, and the visiting team's score. The function should return a dictionary with keys for each of these values, for example:\n",
    "```\n",
    "{'home':'UW', 'opp': 'Rutgers', 'home_score': 48, 'opp_score': 13}\n",
    "```"
   ]
  },
  {
   "cell_type": "code",
   "execution_count": 2,
   "metadata": {},
   "outputs": [],
   "source": [
    "def create_game_dict(home_team, visiting_team, home_score, visiting_score):\n",
    "    game_dict = {'home': home_team, 'opp': visiting_team, 'home_score': home_score, 'opp_score': visiting_score}\n",
    "    return game_dict"
   ]
  },
  {
   "cell_type": "markdown",
   "metadata": {},
   "source": [
    "Use your function to create dictionaries representing the following games (visiting team name and score listed first):\n",
    "- Rutgers @ UW - 13 to 48\n",
    "- Idaho @ UW - 14 to 59\n",
    "- Portland State @ UW - 3 to 41\n",
    "- UW @ Arizona - 35 to 28"
   ]
  },
  {
   "cell_type": "code",
   "execution_count": 6,
   "metadata": {},
   "outputs": [],
   "source": [
    "game1=create_game_dict('UW', 'Rutger', 48, 13)\n",
    "game2=create_game_dict('UW', 'Idaho', 59, 14)\n",
    "game3=create_game_dict('UW', 'Portland State', 41, 3)\n",
    "game4=create_game_dict('Arizona', 'UW', 28, 35)"
   ]
  },
  {
   "cell_type": "markdown",
   "metadata": {},
   "source": [
    "Create a variable **`season2016`** that is a _list_ containing the 4 game dictionaries. Output the list after you create it."
   ]
  },
  {
   "cell_type": "code",
   "execution_count": 10,
   "metadata": {},
   "outputs": [
    {
     "name": "stdout",
     "output_type": "stream",
     "text": [
      "[{'home': 'UW', 'opp': 'Rutger', 'home_score': 48, 'opp_score': 13}, {'home': 'UW', 'opp': 'Idaho', 'home_score': 59, 'opp_score': 14}, {'home': 'UW', 'opp': 'Portland State', 'home_score': 41, 'opp_score': 3}, {'home': 'Arizona', 'opp': 'UW', 'home_score': 28, 'opp_score': 35}]\n"
     ]
    }
   ],
   "source": [
    "season2016 = [game1, game2, game3, game4]\n",
    "\n",
    "print(season2016)"
   ]
  },
  {
   "cell_type": "markdown",
   "metadata": {},
   "source": [
    "Print the visiting opponent of the 3rd game played in this 2016 season."
   ]
  },
  {
   "cell_type": "code",
   "execution_count": 12,
   "metadata": {},
   "outputs": [
    {
     "name": "stdout",
     "output_type": "stream",
     "text": [
      "Portland State\n"
     ]
    }
   ],
   "source": [
    "print(season2016[2]['opp'])"
   ]
  },
  {
   "cell_type": "markdown",
   "metadata": {},
   "source": [
    "Print out the list of games, each on their own line, in a format `\"HOME vs. OPPONENT\"`."
   ]
  },
  {
   "cell_type": "code",
   "execution_count": 15,
   "metadata": {},
   "outputs": [
    {
     "name": "stdout",
     "output_type": "stream",
     "text": [
      "UW vs. Rutger\n",
      "UW vs. Idaho\n",
      "UW vs. Portland State\n",
      "Arizona vs. UW\n"
     ]
    }
   ],
   "source": [
    "for game in range(len(season2016)):\n",
    "    print(season2016[game]['home'] + ' vs. ' + season2016[game]['opp'])"
   ]
  },
  {
   "cell_type": "markdown",
   "metadata": {},
   "source": [
    "Create a variable **`home_won_count`** that is the number of games won by the home team in this piece of the 2016 season. Print out the variable."
   ]
  },
  {
   "cell_type": "code",
   "execution_count": 17,
   "metadata": {},
   "outputs": [
    {
     "name": "stdout",
     "output_type": "stream",
     "text": [
      "3\n"
     ]
    }
   ],
   "source": [
    "home_won_count = 0\n",
    "for game in range(len(season2016)):\n",
    "    if season2016[game]['home_score'] > season2016[game]['opp_score']:\n",
    "        home_won_count = 1 + home_won_count\n",
    "print(home_won_count)"
   ]
  },
  {
   "cell_type": "markdown",
   "metadata": {},
   "source": [
    "Create a variable **`home_point_spread`** which is the _average_ number of points that the home team won by (for games that they won). Print out the variable."
   ]
  },
  {
   "cell_type": "code",
   "execution_count": 19,
   "metadata": {},
   "outputs": [
    {
     "name": "stdout",
     "output_type": "stream",
     "text": [
      "39.333333333333336\n"
     ]
    }
   ],
   "source": [
    "home_point_spread = 0\n",
    "home_total = 0\n",
    "for game in range(len(season2016)):\n",
    "    if season2016[game]['home_score'] > season2016[game]['opp_score']:\n",
    "        home_total = season2016[game]['home_score'] - season2016[game]['opp_score'] + home_total\n",
    "home_point_spread = home_total / home_won_count\n",
    "print(home_point_spread)"
   ]
  },
  {
   "cell_type": "markdown",
   "metadata": {},
   "source": [
    "_Bonus_: read in the **`data/huskies_2016.csv`** file and create a new `season2016` variable from that data (each game is written on a new line&mdash;the first line is the header). Then rerun the above calculations for the entire season.\n",
    "\n",
    "- You'll need to skip the \"header\" line, and remember to convert scores into integers.\n",
    "\n",
    "Optionally, you can use the [csv](https://docs.python.org/3/library/csv.html) module to easily read each line (row) of the file as a _list_ of values, passing the appropriate ones into your `create_game_dict()` function."
   ]
  },
  {
   "cell_type": "code",
   "execution_count": null,
   "metadata": {},
   "outputs": [],
   "source": []
  }
 ],
 "metadata": {
  "kernelspec": {
   "display_name": "Python 3",
   "language": "python",
   "name": "python3"
  },
  "language_info": {
   "codemirror_mode": {
    "name": "ipython",
    "version": 3
   },
   "file_extension": ".py",
   "mimetype": "text/x-python",
   "name": "python",
   "nbconvert_exporter": "python",
   "pygments_lexer": "ipython3",
   "version": "3.6.4"
  },
  "toc": {
   "colors": {
    "hover_highlight": "#DAA520",
    "running_highlight": "#FF0000",
    "selected_highlight": "#FFD700"
   },
   "moveMenuLeft": true,
   "nav_menu": {
    "height": "30px",
    "width": "252px"
   },
   "navigate_menu": true,
   "number_sections": true,
   "sideBar": true,
   "threshold": 4,
   "toc_cell": false,
   "toc_section_display": "block",
   "toc_window_display": false,
   "widenNotebook": false
  }
 },
 "nbformat": 4,
 "nbformat_minor": 2
}
