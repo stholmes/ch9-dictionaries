{
 "cells": [
  {
   "cell_type": "markdown",
   "metadata": {},
   "source": [
    "# Exercise 3\n",
    "Add the specified code for each code cell, running the cells _in order_."
   ]
  },
  {
   "cell_type": "markdown",
   "metadata": {},
   "source": [
    "Define a function **`create_game_dict()`** that takes in 4 arguments: the name of the home team in a sports game, the name of the visiting team, the home team's score, and the visiting team's score. The function should return a dictionary with keys for each of these values, for example:\n",
    "```\n",
    "{'home':'UW', 'opp': 'Rutgers', 'home_score': 48, 'opp_score': 13}\n",
    "```"
   ]
  },
  {
   "cell_type": "code",
   "execution_count": 2,
   "metadata": {},
   "outputs": [],
   "source": [
    "def create_game_dict(home_team, visiting_team, home_score, visiting_score):\n",
    "    game_dict = {'home': home_team, 'opp': visiting_team, 'home_score': home_score, 'opp_score': visiting_score}\n",
    "    return game_dict"
   ]
  },
  {
   "cell_type": "markdown",
   "metadata": {},
   "source": [
    "Use your function to create dictionaries representing the following games (visiting team name and score listed first):\n",
    "- Rutgers @ UW - 13 to 48\n",
    "- Idaho @ UW - 14 to 59\n",
    "- Portland State @ UW - 3 to 41\n",
    "- UW @ Arizona - 35 to 28"
   ]
  },
  {
   "cell_type": "code",
   "execution_count": 5,
   "metadata": {},
   "outputs": [
    {
     "data": {
      "text/plain": [
       "{'home': 'UW', 'home_score': 59, 'opp': 'Idaho', 'opp_score': 14}"
      ]
     },
     "execution_count": 5,
     "metadata": {},
     "output_type": "execute_result"
    }
   ],
   "source": [
    "create_game_dict('UW', 'Rutger', 48, 13)\n",
    "create_game_dict('UW', 'Idaho', 59, 14)"
   ]
  },
  {
   "cell_type": "markdown",
   "metadata": {},
   "source": [
    "Create a variable **`season2016`** that is a _list_ containing the 4 game dictionaries. Output the list after you create it."
   ]
  },
  {
   "cell_type": "code",
   "execution_count": null,
   "metadata": {},
   "outputs": [],
   "source": []
  },
  {
   "cell_type": "markdown",
   "metadata": {},
   "source": [
    "Print the visiting opponent of the 3rd game played in this 2016 season."
   ]
  },
  {
   "cell_type": "code",
   "execution_count": null,
   "metadata": {},
   "outputs": [],
   "source": []
  },
  {
   "cell_type": "markdown",
   "metadata": {},
   "source": [
    "Print out the list of games, each on their own line, in a format `\"HOME vs. OPPONENT\"`."
   ]
  },
  {
   "cell_type": "code",
   "execution_count": null,
   "metadata": {},
   "outputs": [],
   "source": []
  },
  {
   "cell_type": "markdown",
   "metadata": {},
   "source": [
    "Create a variable **`home_won_count`** that is the number of games won by the home team in this piece of the 2016 season. Print out the variable."
   ]
  },
  {
   "cell_type": "code",
   "execution_count": null,
   "metadata": {},
   "outputs": [],
   "source": []
  },
  {
   "cell_type": "markdown",
   "metadata": {},
   "source": [
    "Create a variable **`home_point_spread`** which is the _average_ number of points that the home team won by (for games that they won). Print out the variable."
   ]
  },
  {
   "cell_type": "code",
   "execution_count": null,
   "metadata": {},
   "outputs": [],
   "source": []
  },
  {
   "cell_type": "markdown",
   "metadata": {},
   "source": [
    "_Bonus_: read in the **`data/huskies_2016.csv`** file and create a new `season2016` variable from that data (each game is written on a new line&mdash;the first line is the header). Then rerun the above calculations for the entire season.\n",
    "\n",
    "- You'll need to skip the \"header\" line, and remember to convert scores into integers.\n",
    "\n",
    "Optionally, you can use the [csv](https://docs.python.org/3/library/csv.html) module to easily read each line (row) of the file as a _list_ of values, passing the appropriate ones into your `create_game_dict()` function."
   ]
  },
  {
   "cell_type": "code",
   "execution_count": null,
   "metadata": {},
   "outputs": [],
   "source": []
  }
 ],
 "metadata": {
  "kernelspec": {
   "display_name": "Python 3",
   "language": "python",
   "name": "python3"
  },
  "language_info": {
   "codemirror_mode": {
    "name": "ipython",
    "version": 3
   },
   "file_extension": ".py",
   "mimetype": "text/x-python",
   "name": "python",
   "nbconvert_exporter": "python",
   "pygments_lexer": "ipython3",
   "version": "3.6.4"
  },
  "toc": {
   "colors": {
    "hover_highlight": "#DAA520",
    "running_highlight": "#FF0000",
    "selected_highlight": "#FFD700"
   },
   "moveMenuLeft": true,
   "nav_menu": {
    "height": "30px",
    "width": "252px"
   },
   "navigate_menu": true,
   "number_sections": true,
   "sideBar": true,
   "threshold": 4,
   "toc_cell": false,
   "toc_section_display": "block",
   "toc_window_display": false,
   "widenNotebook": false
  }
 },
 "nbformat": 4,
 "nbformat_minor": 2
}
