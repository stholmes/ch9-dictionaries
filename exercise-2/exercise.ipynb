{
 "cells": [
  {
   "cell_type": "markdown",
   "metadata": {},
   "source": [
    "# Exercise 2\n",
    "Add the specified code for each code cell, running the cells _in order_."
   ]
  },
  {
   "cell_type": "markdown",
   "metadata": {},
   "source": [
    "Open the included **`data/words_small.txt`** file (containing a \"small\" list of English words) and `read()` it into a single string variable **`words_str`**. Then print the first 100 _characters_ of the `words_str` variable (use a slice operator!)"
   ]
  },
  {
   "cell_type": "code",
   "execution_count": 1,
   "metadata": {},
   "outputs": [
    {
     "name": "stdout",
     "output_type": "stream",
     "text": [
      "abbreviate\n",
      "abbreviation\n",
      "abdomen\n",
      "able\n",
      "aboard\n",
      "abroad\n",
      "absent\n",
      "absolute\n",
      "abuse\n",
      "academic\n",
      "academy\n",
      "accelerate\n",
      "\n"
     ]
    }
   ],
   "source": [
    "words_str = 'a'\n",
    "with open('data/words_small.txt') as my_file:\n",
    "    words_str = my_file.read()\n",
    "print(words_str[0:101])"
   ]
  },
  {
   "cell_type": "markdown",
   "metadata": {},
   "source": [
    "**Using a loop**, count the number of times the newline character `\\n` appears in the `words_str`. This should tell you the number of words in the file (plus or minus one). You can check your work with the built-in `count()` string method (but use the loop for practice!)"
   ]
  },
  {
   "cell_type": "code",
   "execution_count": 3,
   "metadata": {},
   "outputs": [
    {
     "name": "stdout",
     "output_type": "stream",
     "text": [
      "1520\n",
      "1520\n"
     ]
    }
   ],
   "source": [
    "count = 0\n",
    "for character in words_str:\n",
    "    if character == '\\n':\n",
    "        count += 1\n",
    "print(count)\n",
    "print(words_str.count('\\n'))"
   ]
  },
  {
   "cell_type": "markdown",
   "metadata": {},
   "source": [
    "Create a variable **`letter_counts`** that is a dictionary whose keys are characters (letters) and whose values are the number of times that character appears in `words_str`. Print the dictionary after you make it.\n",
    "- To do this, start with an empty dictionary, then loop through the letters one at a time. At each letter, increase the value associated with that letter key by one.\n",
    "- Watch out for if the letter is not in the dictionary yet!\n",
    "- Also _delete_ the entry for the newline `\\n` character"
   ]
  },
  {
   "cell_type": "code",
   "execution_count": 6,
   "metadata": {},
   "outputs": [
    {
     "name": "stdout",
     "output_type": "stream",
     "text": [
      "{'a': 703, 'b': 188, 'r': 642, 'e': 1118, 'v': 85, 'i': 515, 't': 604, '\\n': 1520, 'o': 598, 'n': 550, 'd': 314, 'm': 223, 'l': 457, 's': 504, 'u': 279, 'c': 328, 'y': 189, 'p': 224, 'h': 295, 'f': 155, 'w': 161, 'g': 213, 'k': 126, 'z': 15, 'x': 23, 'j': 16, 'q': 9}\n"
     ]
    }
   ],
   "source": [
    "letter_counts = { }\n",
    "for character in words_str:\n",
    "    if character in letter_counts.keys():\n",
    "        letter_counts[character] = 1 + letter_counts[character]\n",
    "    else:\n",
    "        letter_counts[character] = 1\n",
    "print(letter_counts)\n",
    "\n",
    "#for letter in words_str:\n",
    "    #previous_count= letter_counts.get(letter, 0)\n",
    "    #letter_counts[letter] = previous_count + 1\n",
    "            "
   ]
  },
  {
   "cell_type": "markdown",
   "metadata": {},
   "source": [
    "Print out all the count in the `letter_counts` dictionary in the format `\"A appears 703 times\"`, each on a new line, in alphabetical order. _Hint_: iterate through the sorted keys!"
   ]
  },
  {
   "cell_type": "code",
   "execution_count": 12,
   "metadata": {},
   "outputs": [
    {
     "name": "stdout",
     "output_type": "stream",
     "text": [
      "\n",
      "  appears  1520  times\n",
      "a  appears  703  times\n",
      "b  appears  188  times\n",
      "c  appears  328  times\n",
      "d  appears  314  times\n",
      "e  appears  1118  times\n",
      "f  appears  155  times\n",
      "g  appears  213  times\n",
      "h  appears  295  times\n",
      "i  appears  515  times\n",
      "j  appears  16  times\n",
      "k  appears  126  times\n",
      "l  appears  457  times\n",
      "m  appears  223  times\n",
      "n  appears  550  times\n",
      "o  appears  598  times\n",
      "p  appears  224  times\n",
      "q  appears  9  times\n",
      "r  appears  642  times\n",
      "s  appears  504  times\n",
      "t  appears  604  times\n",
      "u  appears  279  times\n",
      "v  appears  85  times\n",
      "w  appears  161  times\n",
      "x  appears  23  times\n",
      "y  appears  189  times\n",
      "z  appears  15  times\n"
     ]
    }
   ],
   "source": [
    "sorted_letter_count = sorted(letter_counts.keys())\n",
    "for key in sorted_letter_count:\n",
    "    print(key, \" appears \", letter_counts[key],  \" times\")"
   ]
  },
  {
   "cell_type": "markdown",
   "metadata": {},
   "source": [
    "Print which letter from the `letter_counts` dictionary has a **value** of `515`. _Hint:_ use a loop to look through all the _items_ until you find the right one, then print that!"
   ]
  },
  {
   "cell_type": "code",
   "execution_count": 15,
   "metadata": {},
   "outputs": [
    {
     "name": "stdout",
     "output_type": "stream",
     "text": [
      "I\n"
     ]
    }
   ],
   "source": [
    "for letter in letter_counts:\n",
    "    if letter_counts[letter] == 515:\n",
    "        print(letter.upper())"
   ]
  },
  {
   "cell_type": "markdown",
   "metadata": {},
   "source": [
    "Create a variable **`count_to_letter_dict`** that is a dictionary whose **keys** are the counts and whose **values** are the letters that have that count. This is a _reverse lookup_ dictionary. Hint: ceate a new dictionary, then loop through items in `letter_counts` and add an item to your new dictionary for each element. You can assume no duplicated counts."
   ]
  },
  {
   "cell_type": "code",
   "execution_count": 16,
   "metadata": {},
   "outputs": [
    {
     "name": "stdout",
     "output_type": "stream",
     "text": [
      "{703: 'a', 188: 'b', 642: 'r', 1118: 'e', 85: 'v', 515: 'i', 604: 't', 1520: '\\n', 598: 'o', 550: 'n', 314: 'd', 223: 'm', 457: 'l', 504: 's', 279: 'u', 328: 'c', 189: 'y', 224: 'p', 295: 'h', 155: 'f', 161: 'w', 213: 'g', 126: 'k', 15: 'z', 23: 'x', 16: 'j', 9: 'q'}\n"
     ]
    }
   ],
   "source": [
    "count_to_letter_dict = {}\n",
    "for letter in letter_counts:\n",
    "     count_to_letter_dict[letter_counts[letter]] = letter \n",
    "print(count_to_letter_dict)"
   ]
  },
  {
   "cell_type": "markdown",
   "metadata": {},
   "source": [
    "Print the **10** most common letters and their counts with the format `\"A appears 703 times\"`. _Hint:_ you'll need to sort the keys to `count_to_letter_dict` and take the first 10 of those."
   ]
  },
  {
   "cell_type": "code",
   "execution_count": 17,
   "metadata": {},
   "outputs": [
    {
     "name": "stdout",
     "output_type": "stream",
     "text": [
      "\n",
      " appears 1520 times.\n",
      "e appears 1118 times.\n",
      "a appears 703 times.\n",
      "r appears 642 times.\n",
      "t appears 604 times.\n",
      "o appears 598 times.\n",
      "n appears 550 times.\n",
      "i appears 515 times.\n",
      "s appears 504 times.\n",
      "l appears 457 times.\n"
     ]
    }
   ],
   "source": [
    "sorted_count_to_letter = sorted(count_to_letter_dict, reverse = True)\n",
    "i = 0\n",
    "while i < 10:\n",
    "    print( count_to_letter_dict[sorted_count_to_letter[i]], \"appears\", sorted_count_to_letter[i],  \"times.\" )\n",
    "    i = i + 1"
   ]
  },
  {
   "cell_type": "markdown",
   "metadata": {},
   "source": [
    "Bonus: repeat your analysis on the `data/words_huge.txt` file! Are the top letters the same?"
   ]
  },
  {
   "cell_type": "code",
   "execution_count": null,
   "metadata": {},
   "outputs": [],
   "source": []
  }
 ],
 "metadata": {
  "kernelspec": {
   "display_name": "Python 3",
   "language": "python",
   "name": "python3"
  },
  "language_info": {
   "codemirror_mode": {
    "name": "ipython",
    "version": 3
   },
   "file_extension": ".py",
   "mimetype": "text/x-python",
   "name": "python",
   "nbconvert_exporter": "python",
   "pygments_lexer": "ipython3",
   "version": "3.6.4"
  },
  "toc": {
   "colors": {
    "hover_highlight": "#DAA520",
    "running_highlight": "#FF0000",
    "selected_highlight": "#FFD700"
   },
   "moveMenuLeft": true,
   "nav_menu": {
    "height": "30px",
    "width": "252px"
   },
   "navigate_menu": true,
   "number_sections": true,
   "sideBar": true,
   "threshold": 4,
   "toc_cell": false,
   "toc_section_display": "block",
   "toc_window_display": false,
   "widenNotebook": false
  }
 },
 "nbformat": 4,
 "nbformat_minor": 2
}
